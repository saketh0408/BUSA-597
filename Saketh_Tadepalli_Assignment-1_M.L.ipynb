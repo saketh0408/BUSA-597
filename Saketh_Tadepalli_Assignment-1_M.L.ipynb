{
 "cells": [
  {
   "cell_type": "markdown",
   "id": "7566174e",
   "metadata": {},
   "source": [
    "# 1. Choose a dataset of your choice from Kaggle and develop 2 visualizations using the right\n",
    "set of variables from the data. (20)\n",
    "https://www.kaggle.com/datasets"
   ]
  },
  {
   "cell_type": "code",
   "execution_count": 1,
   "id": "b02ee992",
   "metadata": {},
   "outputs": [
    {
     "name": "stderr",
     "output_type": "stream",
     "text": [
      "C:\\Users\\saket\\anaconda3\\lib\\site-packages\\scipy\\__init__.py:146: UserWarning: A NumPy version >=1.16.5 and <1.23.0 is required for this version of SciPy (detected version 1.23.2\n",
      "  warnings.warn(f\"A NumPy version >={np_minversion} and <{np_maxversion}\"\n"
     ]
    }
   ],
   "source": [
    "import pandas as pd #Importing different libraries required for performing model.\n",
    "import matplotlib\n",
    "import numpy as np\n",
    "import scipy as sp\n",
    "import sklearn\n",
    "import matplotlib.pyplot as plt\n",
    "import seaborn as sns\n",
    "from scipy import stats as st"
   ]
  },
  {
   "cell_type": "code",
   "execution_count": 2,
   "id": "c20d3d19",
   "metadata": {
    "scrolled": true
   },
   "outputs": [
    {
     "name": "stderr",
     "output_type": "stream",
     "text": [
      "C:\\Users\\saket\\anaconda3\\lib\\site-packages\\IPython\\core\\interactiveshell.py:3172: DtypeWarning: Columns (25) have mixed types.Specify dtype option on import or set low_memory=False.\n",
      "  has_raised = await self.run_ast_nodes(code_ast.body, cell_name,\n"
     ]
    },
    {
     "data": {
      "text/html": [
       "<div>\n",
       "<style scoped>\n",
       "    .dataframe tbody tr th:only-of-type {\n",
       "        vertical-align: middle;\n",
       "    }\n",
       "\n",
       "    .dataframe tbody tr th {\n",
       "        vertical-align: top;\n",
       "    }\n",
       "\n",
       "    .dataframe thead th {\n",
       "        text-align: right;\n",
       "    }\n",
       "</style>\n",
       "<table border=\"1\" class=\"dataframe\">\n",
       "  <thead>\n",
       "    <tr style=\"text-align: right;\">\n",
       "      <th></th>\n",
       "      <th>id</th>\n",
       "      <th>NAME</th>\n",
       "      <th>host id</th>\n",
       "      <th>host_identity_verified</th>\n",
       "      <th>host name</th>\n",
       "      <th>neighbourhood group</th>\n",
       "      <th>neighbourhood</th>\n",
       "      <th>lat</th>\n",
       "      <th>long</th>\n",
       "      <th>country</th>\n",
       "      <th>...</th>\n",
       "      <th>service fee</th>\n",
       "      <th>minimum nights</th>\n",
       "      <th>number of reviews</th>\n",
       "      <th>last review</th>\n",
       "      <th>reviews per month</th>\n",
       "      <th>review rate number</th>\n",
       "      <th>calculated host listings count</th>\n",
       "      <th>availability 365</th>\n",
       "      <th>house_rules</th>\n",
       "      <th>license</th>\n",
       "    </tr>\n",
       "  </thead>\n",
       "  <tbody>\n",
       "    <tr>\n",
       "      <th>0</th>\n",
       "      <td>1001254</td>\n",
       "      <td>Clean &amp; quiet apt home by the park</td>\n",
       "      <td>80014485718</td>\n",
       "      <td>unconfirmed</td>\n",
       "      <td>Madaline</td>\n",
       "      <td>Brooklyn</td>\n",
       "      <td>Kensington</td>\n",
       "      <td>40.64749</td>\n",
       "      <td>-73.97237</td>\n",
       "      <td>United States</td>\n",
       "      <td>...</td>\n",
       "      <td>$193</td>\n",
       "      <td>10.0</td>\n",
       "      <td>9.0</td>\n",
       "      <td>10/19/2021</td>\n",
       "      <td>0.21</td>\n",
       "      <td>4.0</td>\n",
       "      <td>6.0</td>\n",
       "      <td>286.0</td>\n",
       "      <td>Clean up and treat the home the way you'd like...</td>\n",
       "      <td>NaN</td>\n",
       "    </tr>\n",
       "    <tr>\n",
       "      <th>1</th>\n",
       "      <td>1002102</td>\n",
       "      <td>Skylit Midtown Castle</td>\n",
       "      <td>52335172823</td>\n",
       "      <td>verified</td>\n",
       "      <td>Jenna</td>\n",
       "      <td>Manhattan</td>\n",
       "      <td>Midtown</td>\n",
       "      <td>40.75362</td>\n",
       "      <td>-73.98377</td>\n",
       "      <td>United States</td>\n",
       "      <td>...</td>\n",
       "      <td>$28</td>\n",
       "      <td>30.0</td>\n",
       "      <td>45.0</td>\n",
       "      <td>5/21/2022</td>\n",
       "      <td>0.38</td>\n",
       "      <td>4.0</td>\n",
       "      <td>2.0</td>\n",
       "      <td>228.0</td>\n",
       "      <td>Pet friendly but please confirm with me if the...</td>\n",
       "      <td>NaN</td>\n",
       "    </tr>\n",
       "    <tr>\n",
       "      <th>2</th>\n",
       "      <td>1002403</td>\n",
       "      <td>THE VILLAGE OF HARLEM....NEW YORK !</td>\n",
       "      <td>78829239556</td>\n",
       "      <td>NaN</td>\n",
       "      <td>Elise</td>\n",
       "      <td>Manhattan</td>\n",
       "      <td>Harlem</td>\n",
       "      <td>40.80902</td>\n",
       "      <td>-73.94190</td>\n",
       "      <td>United States</td>\n",
       "      <td>...</td>\n",
       "      <td>$124</td>\n",
       "      <td>3.0</td>\n",
       "      <td>0.0</td>\n",
       "      <td>NaN</td>\n",
       "      <td>NaN</td>\n",
       "      <td>5.0</td>\n",
       "      <td>1.0</td>\n",
       "      <td>352.0</td>\n",
       "      <td>I encourage you to use my kitchen, cooking and...</td>\n",
       "      <td>NaN</td>\n",
       "    </tr>\n",
       "    <tr>\n",
       "      <th>3</th>\n",
       "      <td>1002755</td>\n",
       "      <td>NaN</td>\n",
       "      <td>85098326012</td>\n",
       "      <td>unconfirmed</td>\n",
       "      <td>Garry</td>\n",
       "      <td>Brooklyn</td>\n",
       "      <td>Clinton Hill</td>\n",
       "      <td>40.68514</td>\n",
       "      <td>-73.95976</td>\n",
       "      <td>United States</td>\n",
       "      <td>...</td>\n",
       "      <td>$74</td>\n",
       "      <td>30.0</td>\n",
       "      <td>270.0</td>\n",
       "      <td>7/5/2019</td>\n",
       "      <td>4.64</td>\n",
       "      <td>4.0</td>\n",
       "      <td>1.0</td>\n",
       "      <td>322.0</td>\n",
       "      <td>NaN</td>\n",
       "      <td>NaN</td>\n",
       "    </tr>\n",
       "    <tr>\n",
       "      <th>4</th>\n",
       "      <td>1003689</td>\n",
       "      <td>Entire Apt: Spacious Studio/Loft by central park</td>\n",
       "      <td>92037596077</td>\n",
       "      <td>verified</td>\n",
       "      <td>Lyndon</td>\n",
       "      <td>Manhattan</td>\n",
       "      <td>East Harlem</td>\n",
       "      <td>40.79851</td>\n",
       "      <td>-73.94399</td>\n",
       "      <td>United States</td>\n",
       "      <td>...</td>\n",
       "      <td>$41</td>\n",
       "      <td>10.0</td>\n",
       "      <td>9.0</td>\n",
       "      <td>11/19/2018</td>\n",
       "      <td>0.10</td>\n",
       "      <td>3.0</td>\n",
       "      <td>1.0</td>\n",
       "      <td>289.0</td>\n",
       "      <td>Please no smoking in the house, porch or on th...</td>\n",
       "      <td>NaN</td>\n",
       "    </tr>\n",
       "  </tbody>\n",
       "</table>\n",
       "<p>5 rows × 26 columns</p>\n",
       "</div>"
      ],
      "text/plain": [
       "        id                                              NAME      host id  \\\n",
       "0  1001254                Clean & quiet apt home by the park  80014485718   \n",
       "1  1002102                             Skylit Midtown Castle  52335172823   \n",
       "2  1002403               THE VILLAGE OF HARLEM....NEW YORK !  78829239556   \n",
       "3  1002755                                               NaN  85098326012   \n",
       "4  1003689  Entire Apt: Spacious Studio/Loft by central park  92037596077   \n",
       "\n",
       "  host_identity_verified host name neighbourhood group neighbourhood  \\\n",
       "0            unconfirmed  Madaline            Brooklyn    Kensington   \n",
       "1               verified     Jenna           Manhattan       Midtown   \n",
       "2                    NaN     Elise           Manhattan        Harlem   \n",
       "3            unconfirmed     Garry            Brooklyn  Clinton Hill   \n",
       "4               verified    Lyndon           Manhattan   East Harlem   \n",
       "\n",
       "        lat      long        country  ... service fee minimum nights  \\\n",
       "0  40.64749 -73.97237  United States  ...       $193            10.0   \n",
       "1  40.75362 -73.98377  United States  ...        $28            30.0   \n",
       "2  40.80902 -73.94190  United States  ...       $124             3.0   \n",
       "3  40.68514 -73.95976  United States  ...        $74            30.0   \n",
       "4  40.79851 -73.94399  United States  ...        $41            10.0   \n",
       "\n",
       "  number of reviews last review  reviews per month review rate number  \\\n",
       "0               9.0  10/19/2021               0.21                4.0   \n",
       "1              45.0   5/21/2022               0.38                4.0   \n",
       "2               0.0         NaN                NaN                5.0   \n",
       "3             270.0    7/5/2019               4.64                4.0   \n",
       "4               9.0  11/19/2018               0.10                3.0   \n",
       "\n",
       "  calculated host listings count  availability 365  \\\n",
       "0                            6.0             286.0   \n",
       "1                            2.0             228.0   \n",
       "2                            1.0             352.0   \n",
       "3                            1.0             322.0   \n",
       "4                            1.0             289.0   \n",
       "\n",
       "                                         house_rules license  \n",
       "0  Clean up and treat the home the way you'd like...     NaN  \n",
       "1  Pet friendly but please confirm with me if the...     NaN  \n",
       "2  I encourage you to use my kitchen, cooking and...     NaN  \n",
       "3                                                NaN     NaN  \n",
       "4  Please no smoking in the house, porch or on th...     NaN  \n",
       "\n",
       "[5 rows x 26 columns]"
      ]
     },
     "execution_count": 2,
     "metadata": {},
     "output_type": "execute_result"
    }
   ],
   "source": [
    "df=pd.read_csv(\"Airbnb_Open_Data.csv\")\n",
    "df.head()"
   ]
  },
  {
   "cell_type": "code",
   "execution_count": 3,
   "id": "e410e788",
   "metadata": {},
   "outputs": [
    {
     "data": {
      "text/html": [
       "<div>\n",
       "<style scoped>\n",
       "    .dataframe tbody tr th:only-of-type {\n",
       "        vertical-align: middle;\n",
       "    }\n",
       "\n",
       "    .dataframe tbody tr th {\n",
       "        vertical-align: top;\n",
       "    }\n",
       "\n",
       "    .dataframe thead th {\n",
       "        text-align: right;\n",
       "    }\n",
       "</style>\n",
       "<table border=\"1\" class=\"dataframe\">\n",
       "  <thead>\n",
       "    <tr style=\"text-align: right;\">\n",
       "      <th></th>\n",
       "      <th>id</th>\n",
       "      <th>NAME</th>\n",
       "      <th>host id</th>\n",
       "      <th>host_identity_verified</th>\n",
       "      <th>host name</th>\n",
       "      <th>neighbourhood group</th>\n",
       "      <th>neighbourhood</th>\n",
       "      <th>lat</th>\n",
       "      <th>long</th>\n",
       "      <th>country</th>\n",
       "      <th>...</th>\n",
       "      <th>service fee</th>\n",
       "      <th>minimum nights</th>\n",
       "      <th>number of reviews</th>\n",
       "      <th>last review</th>\n",
       "      <th>reviews per month</th>\n",
       "      <th>review rate number</th>\n",
       "      <th>calculated host listings count</th>\n",
       "      <th>availability 365</th>\n",
       "      <th>house_rules</th>\n",
       "      <th>license</th>\n",
       "    </tr>\n",
       "  </thead>\n",
       "  <tbody>\n",
       "  </tbody>\n",
       "</table>\n",
       "<p>0 rows × 26 columns</p>\n",
       "</div>"
      ],
      "text/plain": [
       "Empty DataFrame\n",
       "Columns: [id, NAME, host id, host_identity_verified, host name, neighbourhood group, neighbourhood, lat, long, country, country code, instant_bookable, cancellation_policy, room type, Construction year, price, service fee, minimum nights, number of reviews, last review, reviews per month, review rate number, calculated host listings count, availability 365, house_rules, license]\n",
       "Index: []\n",
       "\n",
       "[0 rows x 26 columns]"
      ]
     },
     "execution_count": 3,
     "metadata": {},
     "output_type": "execute_result"
    }
   ],
   "source": [
    "df = df.fillna(0) #filling those null values with -1.\n",
    "df[df.isnull().any(axis=1)]"
   ]
  },
  {
   "cell_type": "code",
   "execution_count": 4,
   "id": "3b8618c8",
   "metadata": {},
   "outputs": [
    {
     "data": {
      "text/plain": [
       "id                                0\n",
       "NAME                              0\n",
       "host id                           0\n",
       "host_identity_verified            0\n",
       "host name                         0\n",
       "neighbourhood group               0\n",
       "neighbourhood                     0\n",
       "lat                               0\n",
       "long                              0\n",
       "country                           0\n",
       "country code                      0\n",
       "instant_bookable                  0\n",
       "cancellation_policy               0\n",
       "room type                         0\n",
       "Construction year                 0\n",
       "price                             0\n",
       "service fee                       0\n",
       "minimum nights                    0\n",
       "number of reviews                 0\n",
       "last review                       0\n",
       "reviews per month                 0\n",
       "review rate number                0\n",
       "calculated host listings count    0\n",
       "availability 365                  0\n",
       "house_rules                       0\n",
       "license                           0\n",
       "dtype: int64"
      ]
     },
     "execution_count": 4,
     "metadata": {},
     "output_type": "execute_result"
    }
   ],
   "source": [
    "df.isnull().sum() #sum of null values in the whole data set"
   ]
  },
  {
   "cell_type": "code",
   "execution_count": 5,
   "id": "c4aa5a2b",
   "metadata": {},
   "outputs": [],
   "source": [
    "Q1=df.quantile(0.25) #25% of data is considered for quantile method.\n",
    "Q3=df.quantile(0.75) #75% of data is considered for quantile method.\n",
    "IQR = Q3-Q1 #IQR is found out (Inter Quantile Range)"
   ]
  },
  {
   "cell_type": "code",
   "execution_count": 6,
   "id": "871c1c21",
   "metadata": {},
   "outputs": [
    {
     "data": {
      "text/plain": [
       "(59280, 26)"
      ]
     },
     "execution_count": 6,
     "metadata": {},
     "output_type": "execute_result"
    }
   ],
   "source": [
    "df=df[~((df<(Q1-1.5*IQR))|(df>(Q3+1.5*IQR))).any(axis=1)] #higher boundary, lower boundary is found out and replaced.\n",
    "df.shape"
   ]
  },
  {
   "cell_type": "code",
   "execution_count": 7,
   "id": "04156654",
   "metadata": {},
   "outputs": [
    {
     "data": {
      "text/plain": [
       "id                                  int64\n",
       "NAME                               object\n",
       "host id                             int64\n",
       "host_identity_verified             object\n",
       "host name                          object\n",
       "neighbourhood group                object\n",
       "neighbourhood                      object\n",
       "lat                               float64\n",
       "long                              float64\n",
       "country                            object\n",
       "country code                       object\n",
       "instant_bookable                   object\n",
       "cancellation_policy                object\n",
       "room type                          object\n",
       "Construction year                 float64\n",
       "price                              object\n",
       "service fee                        object\n",
       "minimum nights                    float64\n",
       "number of reviews                 float64\n",
       "last review                        object\n",
       "reviews per month                 float64\n",
       "review rate number                float64\n",
       "calculated host listings count    float64\n",
       "availability 365                  float64\n",
       "house_rules                        object\n",
       "license                            object\n",
       "dtype: object"
      ]
     },
     "execution_count": 7,
     "metadata": {},
     "output_type": "execute_result"
    }
   ],
   "source": [
    "df.dtypes #different types of formats of columns"
   ]
  },
  {
   "cell_type": "code",
   "execution_count": 8,
   "id": "66b21db9",
   "metadata": {},
   "outputs": [],
   "source": [
    "df['price'] = df['price'].str.replace('$','')  #replacing $ sign\n"
   ]
  },
  {
   "cell_type": "code",
   "execution_count": 9,
   "id": "bf5dfb0b",
   "metadata": {},
   "outputs": [],
   "source": [
    "df['price'] = df['price'].str.replace(',','') #replacing , sign between numbers"
   ]
  },
  {
   "cell_type": "code",
   "execution_count": 10,
   "id": "460edf73",
   "metadata": {},
   "outputs": [],
   "source": [
    "df['price']=df['price'].replace(np.nan,0).astype('int') #replacing NAN with 0"
   ]
  },
  {
   "cell_type": "code",
   "execution_count": 11,
   "id": "0d636d35",
   "metadata": {},
   "outputs": [
    {
     "data": {
      "text/plain": [
       "id                                  int64\n",
       "NAME                               object\n",
       "host id                             int64\n",
       "host_identity_verified             object\n",
       "host name                          object\n",
       "neighbourhood group                object\n",
       "neighbourhood                      object\n",
       "lat                               float64\n",
       "long                              float64\n",
       "country                            object\n",
       "country code                       object\n",
       "instant_bookable                   object\n",
       "cancellation_policy                object\n",
       "room type                          object\n",
       "Construction year                 float64\n",
       "price                               int32\n",
       "service fee                        object\n",
       "minimum nights                    float64\n",
       "number of reviews                 float64\n",
       "last review                        object\n",
       "reviews per month                 float64\n",
       "review rate number                float64\n",
       "calculated host listings count    float64\n",
       "availability 365                  float64\n",
       "house_rules                        object\n",
       "license                            object\n",
       "dtype: object"
      ]
     },
     "execution_count": 11,
     "metadata": {},
     "output_type": "execute_result"
    }
   ],
   "source": [
    "df.dtypes"
   ]
  },
  {
   "cell_type": "code",
   "execution_count": 12,
   "id": "d1d592f5",
   "metadata": {},
   "outputs": [
    {
     "data": {
      "image/png": "[encoded data removed]",
      "text/plain": [
       "<Figure size 432x288 with 1 Axes>"
      ]
     },
     "metadata": {
      "needs_background": "light"
     },
     "output_type": "display_data"
    }
   ],
   "source": [
    "plt.boxplot(df['price'])\n",
    "plt.show()"
   ]
  },
  {
   "cell_type": "code",
   "execution_count": 14,
   "id": "e588a200",
   "metadata": {
    "scrolled": true
   },
   "outputs": [
    {
     "data": {
      "image/png": "[encoded data removed]",
      "text/plain": [
       "<Figure size 1080x720 with 1 Axes>"
      ]
     },
     "metadata": {
      "needs_background": "light"
     },
     "output_type": "display_data"
    }
   ],
   "source": [
    "fig, ax = plt.subplots(figsize=(15,10))\n",
    "plt.ylim(500,800)\n",
    "sns.barplot(x='Construction year',y='price',data=df,ax=ax)\n",
    "plt.xlabel(\"Construction year\")\n",
    "plt.ylabel(\"price\")\n",
    "plt.title(\"Price vs Construction year\")\n",
    "plt.show()"
   ]
  },
  {
   "cell_type": "code",
   "execution_count": 15,
   "id": "d956d5ac",
   "metadata": {},
   "outputs": [
    {
     "data": {
      "text/html": [
       "<div>\n",
       "<style scoped>\n",
       "    .dataframe tbody tr th:only-of-type {\n",
       "        vertical-align: middle;\n",
       "    }\n",
       "\n",
       "    .dataframe tbody tr th {\n",
       "        vertical-align: top;\n",
       "    }\n",
       "\n",
       "    .dataframe thead th {\n",
       "        text-align: right;\n",
       "    }\n",
       "</style>\n",
       "<table border=\"1\" class=\"dataframe\">\n",
       "  <thead>\n",
       "    <tr style=\"text-align: right;\">\n",
       "      <th></th>\n",
       "      <th>id</th>\n",
       "      <th>host id</th>\n",
       "      <th>lat</th>\n",
       "      <th>long</th>\n",
       "      <th>Construction year</th>\n",
       "      <th>price</th>\n",
       "      <th>minimum nights</th>\n",
       "      <th>number of reviews</th>\n",
       "      <th>reviews per month</th>\n",
       "      <th>review rate number</th>\n",
       "      <th>calculated host listings count</th>\n",
       "      <th>availability 365</th>\n",
       "    </tr>\n",
       "    <tr>\n",
       "      <th>room type</th>\n",
       "      <th></th>\n",
       "      <th></th>\n",
       "      <th></th>\n",
       "      <th></th>\n",
       "      <th></th>\n",
       "      <th></th>\n",
       "      <th></th>\n",
       "      <th></th>\n",
       "      <th></th>\n",
       "      <th></th>\n",
       "      <th></th>\n",
       "      <th></th>\n",
       "    </tr>\n",
       "  </thead>\n",
       "  <tbody>\n",
       "    <tr>\n",
       "      <th>Entire home/apt</th>\n",
       "      <td>2.808667e+07</td>\n",
       "      <td>4.949646e+10</td>\n",
       "      <td>40.727189</td>\n",
       "      <td>-73.962823</td>\n",
       "      <td>2012.512684</td>\n",
       "      <td>624.371042</td>\n",
       "      <td>3.186822</td>\n",
       "      <td>13.527904</td>\n",
       "      <td>0.781511</td>\n",
       "      <td>3.242791</td>\n",
       "      <td>1.172629</td>\n",
       "      <td>110.468595</td>\n",
       "    </tr>\n",
       "    <tr>\n",
       "      <th>Hotel room</th>\n",
       "      <td>3.469668e+07</td>\n",
       "      <td>3.360375e+10</td>\n",
       "      <td>40.744258</td>\n",
       "      <td>-73.979359</td>\n",
       "      <td>2013.066667</td>\n",
       "      <td>610.666667</td>\n",
       "      <td>1.066667</td>\n",
       "      <td>21.200000</td>\n",
       "      <td>1.041333</td>\n",
       "      <td>3.466667</td>\n",
       "      <td>1.333333</td>\n",
       "      <td>67.066667</td>\n",
       "    </tr>\n",
       "    <tr>\n",
       "      <th>Private room</th>\n",
       "      <td>2.916513e+07</td>\n",
       "      <td>4.920801e+10</td>\n",
       "      <td>40.729993</td>\n",
       "      <td>-73.949540</td>\n",
       "      <td>2012.524530</td>\n",
       "      <td>624.625083</td>\n",
       "      <td>2.676835</td>\n",
       "      <td>11.850609</td>\n",
       "      <td>0.680570</td>\n",
       "      <td>3.241461</td>\n",
       "      <td>1.380524</td>\n",
       "      <td>107.711804</td>\n",
       "    </tr>\n",
       "    <tr>\n",
       "      <th>Shared room</th>\n",
       "      <td>2.899874e+07</td>\n",
       "      <td>4.978414e+10</td>\n",
       "      <td>40.742814</td>\n",
       "      <td>-73.952408</td>\n",
       "      <td>2012.481737</td>\n",
       "      <td>644.045410</td>\n",
       "      <td>1.926950</td>\n",
       "      <td>11.180652</td>\n",
       "      <td>0.639516</td>\n",
       "      <td>3.224087</td>\n",
       "      <td>1.458045</td>\n",
       "      <td>133.605133</td>\n",
       "    </tr>\n",
       "  </tbody>\n",
       "</table>\n",
       "</div>"
      ],
      "text/plain": [
       "                           id       host id        lat       long  \\\n",
       "room type                                                           \n",
       "Entire home/apt  2.808667e+07  4.949646e+10  40.727189 -73.962823   \n",
       "Hotel room       3.469668e+07  3.360375e+10  40.744258 -73.979359   \n",
       "Private room     2.916513e+07  4.920801e+10  40.729993 -73.949540   \n",
       "Shared room      2.899874e+07  4.978414e+10  40.742814 -73.952408   \n",
       "\n",
       "                 Construction year       price  minimum nights  \\\n",
       "room type                                                        \n",
       "Entire home/apt        2012.512684  624.371042        3.186822   \n",
       "Hotel room             2013.066667  610.666667        1.066667   \n",
       "Private room           2012.524530  624.625083        2.676835   \n",
       "Shared room            2012.481737  644.045410        1.926950   \n",
       "\n",
       "                 number of reviews  reviews per month  review rate number  \\\n",
       "room type                                                                   \n",
       "Entire home/apt          13.527904           0.781511            3.242791   \n",
       "Hotel room               21.200000           1.041333            3.466667   \n",
       "Private room             11.850609           0.680570            3.241461   \n",
       "Shared room              11.180652           0.639516            3.224087   \n",
       "\n",
       "                 calculated host listings count  availability 365  \n",
       "room type                                                          \n",
       "Entire home/apt                        1.172629        110.468595  \n",
       "Hotel room                             1.333333         67.066667  \n",
       "Private room                           1.380524        107.711804  \n",
       "Shared room                            1.458045        133.605133  "
      ]
     },
     "execution_count": 15,
     "metadata": {},
     "output_type": "execute_result"
    }
   ],
   "source": [
    "df.groupby(['room type']).mean() #groupby function to group according to the room type and finding out mean of it."
   ]
  },
  {
   "cell_type": "code",
   "execution_count": 20,
   "id": "3a5cc044",
   "metadata": {},
   "outputs": [],
   "source": [
    "df['room type']=df['room type'].replace('Entire home/apt','1').astype('int') #converting 'str' into numeric"
   ]
  },
  {
   "cell_type": "code",
   "execution_count": 22,
   "id": "0dcae820",
   "metadata": {},
   "outputs": [],
   "source": [
    "df['room type']=df['room type'].replace('Hotel room','2').astype('int') #converting 'str' into numeric"
   ]
  },
  {
   "cell_type": "code",
   "execution_count": 23,
   "id": "afe53ca6",
   "metadata": {},
   "outputs": [],
   "source": [
    "df['room type']=df['room type'].replace('Private room','3').astype('int') #converting 'str' into numeric"
   ]
  },
  {
   "cell_type": "code",
   "execution_count": 24,
   "id": "71fe8705",
   "metadata": {},
   "outputs": [],
   "source": [
    "df['room type']=df['room type'].replace('Shared room','4').astype('int') #converting 'str' into numeric"
   ]
  },
  {
   "cell_type": "code",
   "execution_count": 25,
   "id": "3210e415",
   "metadata": {},
   "outputs": [
    {
     "data": {
      "text/plain": [
       "dtype('int32')"
      ]
     },
     "execution_count": 25,
     "metadata": {},
     "output_type": "execute_result"
    }
   ],
   "source": [
    "df['room type'].dtypes #type of the variable"
   ]
  },
  {
   "cell_type": "code",
   "execution_count": 26,
   "id": "d7fa56da",
   "metadata": {},
   "outputs": [
    {
     "data": {
      "image/png": "[encoded data removed]",
      "text/plain": [
       "<Figure size 432x288 with 1 Axes>"
      ]
     },
     "metadata": {
      "needs_background": "light"
     },
     "output_type": "display_data"
    }
   ],
   "source": [
    "plt.boxplot(df['room type'])\n",
    "plt.show()"
   ]
  },
  {
   "cell_type": "code",
   "execution_count": 27,
   "id": "308af8ae",
   "metadata": {},
   "outputs": [
    {
     "data": {
      "image/png": "[encoded data removed]",
      "text/plain": [
       "<Figure size 1440x720 with 1 Axes>"
      ]
     },
     "metadata": {
      "needs_background": "light"
     },
     "output_type": "display_data"
    }
   ],
   "source": [
    "fig, ax = plt.subplots(figsize=(20,10))\n",
    "plt.ylim(600,650)\n",
    "sns.barplot(x='room type',y='price',data=df,ax=ax)\n",
    "plt.xlabel(\"room type\")\n",
    "plt.ylabel(\"price\")\n",
    "plt.title(\"Price vs room type\")\n",
    "plt.show()"
   ]
  },
  {
   "cell_type": "markdown",
   "id": "fd02b6ec",
   "metadata": {},
   "source": [
    "# 2. Perform Exploratory data analysis on the above dataset.\n",
    "• What can you conclude from methods of central tendency and deviation of the\n",
    "variables? (10)\n",
    "• Are there any correlated variables? (10)"
   ]
  },
  {
   "cell_type": "markdown",
   "id": "9844a622",
   "metadata": {},
   "source": [
    "# Central Tendency"
   ]
  },
  {
   "cell_type": "code",
   "execution_count": 28,
   "id": "d21bad16",
   "metadata": {},
   "outputs": [
    {
     "data": {
      "text/plain": [
       "624.8199561403509"
      ]
     },
     "execution_count": 28,
     "metadata": {},
     "output_type": "execute_result"
    }
   ],
   "source": [
    "np.mean(df['price']) #mean of the variable"
   ]
  },
  {
   "cell_type": "code",
   "execution_count": 29,
   "id": "7e5f4006",
   "metadata": {},
   "outputs": [
    {
     "data": {
      "text/plain": [
       "624.0"
      ]
     },
     "execution_count": 29,
     "metadata": {},
     "output_type": "execute_result"
    }
   ],
   "source": [
    "np.median(df['price']) #median of variable"
   ]
  },
  {
   "cell_type": "code",
   "execution_count": 30,
   "id": "68d32012",
   "metadata": {},
   "outputs": [
    {
     "data": {
      "text/plain": [
       "ModeResult(mode=array([0]), count=array([117]))"
      ]
     },
     "execution_count": 30,
     "metadata": {},
     "output_type": "execute_result"
    }
   ],
   "source": [
    "mode=st.mode(df['price']) #mode of Variable\n",
    "mode"
   ]
  },
  {
   "cell_type": "markdown",
   "id": "cb0046f0",
   "metadata": {},
   "source": [
    "# Deviation of variables"
   ]
  },
  {
   "cell_type": "code",
   "execution_count": 31,
   "id": "8e7d0aa4",
   "metadata": {},
   "outputs": [
    {
     "data": {
      "text/plain": [
       "331.9931129523201"
      ]
     },
     "execution_count": 31,
     "metadata": {},
     "output_type": "execute_result"
    }
   ],
   "source": [
    "np.std(df['price']) #standard deviation"
   ]
  },
  {
   "cell_type": "code",
   "execution_count": 32,
   "id": "c9eb9ce1",
   "metadata": {},
   "outputs": [
    {
     "data": {
      "text/plain": [
       "110219.42704777195"
      ]
     },
     "execution_count": 32,
     "metadata": {},
     "output_type": "execute_result"
    }
   ],
   "source": [
    "np.var(df['price']) #variance\n"
   ]
  },
  {
   "cell_type": "markdown",
   "id": "22e02656",
   "metadata": {},
   "source": [
    "# Correlation Value"
   ]
  },
  {
   "cell_type": "code",
   "execution_count": 33,
   "id": "82919398",
   "metadata": {},
   "outputs": [
    {
     "data": {
      "text/html": [
       "<div>\n",
       "<style scoped>\n",
       "    .dataframe tbody tr th:only-of-type {\n",
       "        vertical-align: middle;\n",
       "    }\n",
       "\n",
       "    .dataframe tbody tr th {\n",
       "        vertical-align: top;\n",
       "    }\n",
       "\n",
       "    .dataframe thead th {\n",
       "        text-align: right;\n",
       "    }\n",
       "</style>\n",
       "<table border=\"1\" class=\"dataframe\">\n",
       "  <thead>\n",
       "    <tr style=\"text-align: right;\">\n",
       "      <th></th>\n",
       "      <th>id</th>\n",
       "      <th>host id</th>\n",
       "      <th>lat</th>\n",
       "      <th>long</th>\n",
       "      <th>room type</th>\n",
       "      <th>Construction year</th>\n",
       "      <th>price</th>\n",
       "      <th>minimum nights</th>\n",
       "      <th>number of reviews</th>\n",
       "      <th>reviews per month</th>\n",
       "      <th>review rate number</th>\n",
       "      <th>calculated host listings count</th>\n",
       "      <th>availability 365</th>\n",
       "    </tr>\n",
       "  </thead>\n",
       "  <tbody>\n",
       "    <tr>\n",
       "      <th>id</th>\n",
       "      <td>1.000000</td>\n",
       "      <td>0.002180</td>\n",
       "      <td>-0.008819</td>\n",
       "      <td>0.047755</td>\n",
       "      <td>0.031010</td>\n",
       "      <td>0.004470</td>\n",
       "      <td>0.008351</td>\n",
       "      <td>0.001563</td>\n",
       "      <td>0.023511</td>\n",
       "      <td>0.102433</td>\n",
       "      <td>0.037569</td>\n",
       "      <td>0.030138</td>\n",
       "      <td>-0.218719</td>\n",
       "    </tr>\n",
       "    <tr>\n",
       "      <th>host id</th>\n",
       "      <td>0.002180</td>\n",
       "      <td>1.000000</td>\n",
       "      <td>0.000642</td>\n",
       "      <td>-0.008180</td>\n",
       "      <td>-0.004323</td>\n",
       "      <td>0.005178</td>\n",
       "      <td>0.002455</td>\n",
       "      <td>0.001083</td>\n",
       "      <td>0.003924</td>\n",
       "      <td>0.003476</td>\n",
       "      <td>0.004567</td>\n",
       "      <td>0.004910</td>\n",
       "      <td>-0.005076</td>\n",
       "    </tr>\n",
       "    <tr>\n",
       "      <th>lat</th>\n",
       "      <td>-0.008819</td>\n",
       "      <td>0.000642</td>\n",
       "      <td>1.000000</td>\n",
       "      <td>0.112227</td>\n",
       "      <td>0.034297</td>\n",
       "      <td>0.005910</td>\n",
       "      <td>-0.010564</td>\n",
       "      <td>-0.015313</td>\n",
       "      <td>-0.017207</td>\n",
       "      <td>-0.019671</td>\n",
       "      <td>-0.003271</td>\n",
       "      <td>-0.032999</td>\n",
       "      <td>-0.007594</td>\n",
       "    </tr>\n",
       "    <tr>\n",
       "      <th>long</th>\n",
       "      <td>0.047755</td>\n",
       "      <td>-0.008180</td>\n",
       "      <td>0.112227</td>\n",
       "      <td>1.000000</td>\n",
       "      <td>0.213238</td>\n",
       "      <td>0.007268</td>\n",
       "      <td>0.003964</td>\n",
       "      <td>-0.068120</td>\n",
       "      <td>0.043761</td>\n",
       "      <td>0.098832</td>\n",
       "      <td>0.014721</td>\n",
       "      <td>0.120651</td>\n",
       "      <td>0.059774</td>\n",
       "    </tr>\n",
       "    <tr>\n",
       "      <th>room type</th>\n",
       "      <td>0.031010</td>\n",
       "      <td>-0.004323</td>\n",
       "      <td>0.034297</td>\n",
       "      <td>0.213238</td>\n",
       "      <td>1.000000</td>\n",
       "      <td>0.000765</td>\n",
       "      <td>0.002363</td>\n",
       "      <td>-0.142948</td>\n",
       "      <td>-0.050165</td>\n",
       "      <td>-0.054967</td>\n",
       "      <td>-0.000952</td>\n",
       "      <td>0.183684</td>\n",
       "      <td>-0.003770</td>\n",
       "    </tr>\n",
       "    <tr>\n",
       "      <th>Construction year</th>\n",
       "      <td>0.004470</td>\n",
       "      <td>0.005178</td>\n",
       "      <td>0.005910</td>\n",
       "      <td>0.007268</td>\n",
       "      <td>0.000765</td>\n",
       "      <td>1.000000</td>\n",
       "      <td>-0.007489</td>\n",
       "      <td>0.000025</td>\n",
       "      <td>0.000536</td>\n",
       "      <td>0.005871</td>\n",
       "      <td>0.000771</td>\n",
       "      <td>-0.002777</td>\n",
       "      <td>-0.007385</td>\n",
       "    </tr>\n",
       "    <tr>\n",
       "      <th>price</th>\n",
       "      <td>0.008351</td>\n",
       "      <td>0.002455</td>\n",
       "      <td>-0.010564</td>\n",
       "      <td>0.003964</td>\n",
       "      <td>0.002363</td>\n",
       "      <td>-0.007489</td>\n",
       "      <td>1.000000</td>\n",
       "      <td>-0.000921</td>\n",
       "      <td>-0.000417</td>\n",
       "      <td>0.003683</td>\n",
       "      <td>-0.000497</td>\n",
       "      <td>0.004438</td>\n",
       "      <td>-0.002449</td>\n",
       "    </tr>\n",
       "    <tr>\n",
       "      <th>minimum nights</th>\n",
       "      <td>0.001563</td>\n",
       "      <td>0.001083</td>\n",
       "      <td>-0.015313</td>\n",
       "      <td>-0.068120</td>\n",
       "      <td>-0.142948</td>\n",
       "      <td>0.000025</td>\n",
       "      <td>-0.000921</td>\n",
       "      <td>1.000000</td>\n",
       "      <td>-0.059019</td>\n",
       "      <td>-0.143797</td>\n",
       "      <td>-0.004897</td>\n",
       "      <td>-0.057651</td>\n",
       "      <td>-0.045242</td>\n",
       "    </tr>\n",
       "    <tr>\n",
       "      <th>number of reviews</th>\n",
       "      <td>0.023511</td>\n",
       "      <td>0.003924</td>\n",
       "      <td>-0.017207</td>\n",
       "      <td>0.043761</td>\n",
       "      <td>-0.050165</td>\n",
       "      <td>0.000536</td>\n",
       "      <td>-0.000417</td>\n",
       "      <td>-0.059019</td>\n",
       "      <td>1.000000</td>\n",
       "      <td>0.601769</td>\n",
       "      <td>-0.006566</td>\n",
       "      <td>0.125574</td>\n",
       "      <td>0.137259</td>\n",
       "    </tr>\n",
       "    <tr>\n",
       "      <th>reviews per month</th>\n",
       "      <td>0.102433</td>\n",
       "      <td>0.003476</td>\n",
       "      <td>-0.019671</td>\n",
       "      <td>0.098832</td>\n",
       "      <td>-0.054967</td>\n",
       "      <td>0.005871</td>\n",
       "      <td>0.003683</td>\n",
       "      <td>-0.143797</td>\n",
       "      <td>0.601769</td>\n",
       "      <td>1.000000</td>\n",
       "      <td>0.070893</td>\n",
       "      <td>0.148697</td>\n",
       "      <td>0.103643</td>\n",
       "    </tr>\n",
       "    <tr>\n",
       "      <th>review rate number</th>\n",
       "      <td>0.037569</td>\n",
       "      <td>0.004567</td>\n",
       "      <td>-0.003271</td>\n",
       "      <td>0.014721</td>\n",
       "      <td>-0.000952</td>\n",
       "      <td>0.000771</td>\n",
       "      <td>-0.000497</td>\n",
       "      <td>-0.004897</td>\n",
       "      <td>-0.006566</td>\n",
       "      <td>0.070893</td>\n",
       "      <td>1.000000</td>\n",
       "      <td>0.029421</td>\n",
       "      <td>-0.028618</td>\n",
       "    </tr>\n",
       "    <tr>\n",
       "      <th>calculated host listings count</th>\n",
       "      <td>0.030138</td>\n",
       "      <td>0.004910</td>\n",
       "      <td>-0.032999</td>\n",
       "      <td>0.120651</td>\n",
       "      <td>0.183684</td>\n",
       "      <td>-0.002777</td>\n",
       "      <td>0.004438</td>\n",
       "      <td>-0.057651</td>\n",
       "      <td>0.125574</td>\n",
       "      <td>0.148697</td>\n",
       "      <td>0.029421</td>\n",
       "      <td>1.000000</td>\n",
       "      <td>0.114254</td>\n",
       "    </tr>\n",
       "    <tr>\n",
       "      <th>availability 365</th>\n",
       "      <td>-0.218719</td>\n",
       "      <td>-0.005076</td>\n",
       "      <td>-0.007594</td>\n",
       "      <td>0.059774</td>\n",
       "      <td>-0.003770</td>\n",
       "      <td>-0.007385</td>\n",
       "      <td>-0.002449</td>\n",
       "      <td>-0.045242</td>\n",
       "      <td>0.137259</td>\n",
       "      <td>0.103643</td>\n",
       "      <td>-0.028618</td>\n",
       "      <td>0.114254</td>\n",
       "      <td>1.000000</td>\n",
       "    </tr>\n",
       "  </tbody>\n",
       "</table>\n",
       "</div>"
      ],
      "text/plain": [
       "                                      id   host id       lat      long  \\\n",
       "id                              1.000000  0.002180 -0.008819  0.047755   \n",
       "host id                         0.002180  1.000000  0.000642 -0.008180   \n",
       "lat                            -0.008819  0.000642  1.000000  0.112227   \n",
       "long                            0.047755 -0.008180  0.112227  1.000000   \n",
       "room type                       0.031010 -0.004323  0.034297  0.213238   \n",
       "Construction year               0.004470  0.005178  0.005910  0.007268   \n",
       "price                           0.008351  0.002455 -0.010564  0.003964   \n",
       "minimum nights                  0.001563  0.001083 -0.015313 -0.068120   \n",
       "number of reviews               0.023511  0.003924 -0.017207  0.043761   \n",
       "reviews per month               0.102433  0.003476 -0.019671  0.098832   \n",
       "review rate number              0.037569  0.004567 -0.003271  0.014721   \n",
       "calculated host listings count  0.030138  0.004910 -0.032999  0.120651   \n",
       "availability 365               -0.218719 -0.005076 -0.007594  0.059774   \n",
       "\n",
       "                                room type  Construction year     price  \\\n",
       "id                               0.031010           0.004470  0.008351   \n",
       "host id                         -0.004323           0.005178  0.002455   \n",
       "lat                              0.034297           0.005910 -0.010564   \n",
       "long                             0.213238           0.007268  0.003964   \n",
       "room type                        1.000000           0.000765  0.002363   \n",
       "Construction year                0.000765           1.000000 -0.007489   \n",
       "price                            0.002363          -0.007489  1.000000   \n",
       "minimum nights                  -0.142948           0.000025 -0.000921   \n",
       "number of reviews               -0.050165           0.000536 -0.000417   \n",
       "reviews per month               -0.054967           0.005871  0.003683   \n",
       "review rate number              -0.000952           0.000771 -0.000497   \n",
       "calculated host listings count   0.183684          -0.002777  0.004438   \n",
       "availability 365                -0.003770          -0.007385 -0.002449   \n",
       "\n",
       "                                minimum nights  number of reviews  \\\n",
       "id                                    0.001563           0.023511   \n",
       "host id                               0.001083           0.003924   \n",
       "lat                                  -0.015313          -0.017207   \n",
       "long                                 -0.068120           0.043761   \n",
       "room type                            -0.142948          -0.050165   \n",
       "Construction year                     0.000025           0.000536   \n",
       "price                                -0.000921          -0.000417   \n",
       "minimum nights                        1.000000          -0.059019   \n",
       "number of reviews                    -0.059019           1.000000   \n",
       "reviews per month                    -0.143797           0.601769   \n",
       "review rate number                   -0.004897          -0.006566   \n",
       "calculated host listings count       -0.057651           0.125574   \n",
       "availability 365                     -0.045242           0.137259   \n",
       "\n",
       "                                reviews per month  review rate number  \\\n",
       "id                                       0.102433            0.037569   \n",
       "host id                                  0.003476            0.004567   \n",
       "lat                                     -0.019671           -0.003271   \n",
       "long                                     0.098832            0.014721   \n",
       "room type                               -0.054967           -0.000952   \n",
       "Construction year                        0.005871            0.000771   \n",
       "price                                    0.003683           -0.000497   \n",
       "minimum nights                          -0.143797           -0.004897   \n",
       "number of reviews                        0.601769           -0.006566   \n",
       "reviews per month                        1.000000            0.070893   \n",
       "review rate number                       0.070893            1.000000   \n",
       "calculated host listings count           0.148697            0.029421   \n",
       "availability 365                         0.103643           -0.028618   \n",
       "\n",
       "                                calculated host listings count  \\\n",
       "id                                                    0.030138   \n",
       "host id                                               0.004910   \n",
       "lat                                                  -0.032999   \n",
       "long                                                  0.120651   \n",
       "room type                                             0.183684   \n",
       "Construction year                                    -0.002777   \n",
       "price                                                 0.004438   \n",
       "minimum nights                                       -0.057651   \n",
       "number of reviews                                     0.125574   \n",
       "reviews per month                                     0.148697   \n",
       "review rate number                                    0.029421   \n",
       "calculated host listings count                        1.000000   \n",
       "availability 365                                      0.114254   \n",
       "\n",
       "                                availability 365  \n",
       "id                                     -0.218719  \n",
       "host id                                -0.005076  \n",
       "lat                                    -0.007594  \n",
       "long                                    0.059774  \n",
       "room type                              -0.003770  \n",
       "Construction year                      -0.007385  \n",
       "price                                  -0.002449  \n",
       "minimum nights                         -0.045242  \n",
       "number of reviews                       0.137259  \n",
       "reviews per month                       0.103643  \n",
       "review rate number                     -0.028618  \n",
       "calculated host listings count          0.114254  \n",
       "availability 365                        1.000000  "
      ]
     },
     "execution_count": 33,
     "metadata": {},
     "output_type": "execute_result"
    }
   ],
   "source": [
    "df.corr() # correlation between different variables in the dataset"
   ]
  },
  {
   "cell_type": "markdown",
   "id": "8851cdd1",
   "metadata": {},
   "source": [
    "#### There is a co-relation between \"number of reviews\" and \"review rate number\" with ratio of 0.60. In general there is no co-relation between the variables."
   ]
  },
  {
   "cell_type": "markdown",
   "id": "42ac2b4e",
   "metadata": {},
   "source": [
    "# 3. Select an US company of your choice of extract the annual revenue for the past 10 years\n",
    "and stock price for past 2 months. (10)\n",
    "• Visualize the change of revenue over time. (10)\n",
    "• Visualize the change of stock price over time. (10)"
   ]
  },
  {
   "cell_type": "code",
   "execution_count": 34,
   "id": "46b58932",
   "metadata": {},
   "outputs": [
    {
     "data": {
      "text/html": [
       "<div>\n",
       "<style scoped>\n",
       "    .dataframe tbody tr th:only-of-type {\n",
       "        vertical-align: middle;\n",
       "    }\n",
       "\n",
       "    .dataframe tbody tr th {\n",
       "        vertical-align: top;\n",
       "    }\n",
       "\n",
       "    .dataframe thead th {\n",
       "        text-align: right;\n",
       "    }\n",
       "</style>\n",
       "<table border=\"1\" class=\"dataframe\">\n",
       "  <thead>\n",
       "    <tr style=\"text-align: right;\">\n",
       "      <th></th>\n",
       "      <th>Year</th>\n",
       "      <th>Intel Revenue in Millions (USD)</th>\n",
       "    </tr>\n",
       "  </thead>\n",
       "  <tbody>\n",
       "    <tr>\n",
       "      <th>0</th>\n",
       "      <td>2021</td>\n",
       "      <td>79024</td>\n",
       "    </tr>\n",
       "    <tr>\n",
       "      <th>1</th>\n",
       "      <td>2020</td>\n",
       "      <td>77867</td>\n",
       "    </tr>\n",
       "    <tr>\n",
       "      <th>2</th>\n",
       "      <td>2019</td>\n",
       "      <td>71965</td>\n",
       "    </tr>\n",
       "    <tr>\n",
       "      <th>3</th>\n",
       "      <td>2018</td>\n",
       "      <td>70848</td>\n",
       "    </tr>\n",
       "    <tr>\n",
       "      <th>4</th>\n",
       "      <td>2017</td>\n",
       "      <td>62761</td>\n",
       "    </tr>\n",
       "  </tbody>\n",
       "</table>\n",
       "</div>"
      ],
      "text/plain": [
       "   Year  Intel Revenue in Millions (USD)\n",
       "0  2021                            79024\n",
       "1  2020                            77867\n",
       "2  2019                            71965\n",
       "3  2018                            70848\n",
       "4  2017                            62761"
      ]
     },
     "execution_count": 34,
     "metadata": {},
     "output_type": "execute_result"
    }
   ],
   "source": [
    "df1=pd.read_csv(\"INTC_Revenue.csv\")\n",
    "df1.head()"
   ]
  },
  {
   "cell_type": "code",
   "execution_count": 35,
   "id": "efd422f3",
   "metadata": {},
   "outputs": [
    {
     "data": {
      "image/png": "[encoded data removed]",
      "text/plain": [
       "<Figure size 1080x720 with 1 Axes>"
      ]
     },
     "metadata": {
      "needs_background": "light"
     },
     "output_type": "display_data"
    }
   ],
   "source": [
    "fig, ax = plt.subplots(figsize=(15,10))\n",
    "#plt.ylim(500,800)\n",
    "sns.barplot(x='Year',y='Intel Revenue in Millions (USD)',data=df1,ax=ax)\n",
    "plt.xlabel(\"Year\")\n",
    "plt.ylabel(\"Intel Revenue in Millions (USD)\")\n",
    "plt.title(\"Year vs Intel Revenue in Millions (USD)\")\n",
    "plt.show()"
   ]
  },
  {
   "cell_type": "code",
   "execution_count": 36,
   "id": "930ac6e1",
   "metadata": {},
   "outputs": [
    {
     "data": {
      "text/html": [
       "<div>\n",
       "<style scoped>\n",
       "    .dataframe tbody tr th:only-of-type {\n",
       "        vertical-align: middle;\n",
       "    }\n",
       "\n",
       "    .dataframe tbody tr th {\n",
       "        vertical-align: top;\n",
       "    }\n",
       "\n",
       "    .dataframe thead th {\n",
       "        text-align: right;\n",
       "    }\n",
       "</style>\n",
       "<table border=\"1\" class=\"dataframe\">\n",
       "  <thead>\n",
       "    <tr style=\"text-align: right;\">\n",
       "      <th></th>\n",
       "      <th>Date</th>\n",
       "      <th>Open</th>\n",
       "      <th>High</th>\n",
       "      <th>Low</th>\n",
       "      <th>Close</th>\n",
       "      <th>Adj Close</th>\n",
       "      <th>Volume</th>\n",
       "    </tr>\n",
       "  </thead>\n",
       "  <tbody>\n",
       "    <tr>\n",
       "      <th>0</th>\n",
       "      <td>7/1/2022</td>\n",
       "      <td>37.090000</td>\n",
       "      <td>37.200001</td>\n",
       "      <td>35.880001</td>\n",
       "      <td>36.340000</td>\n",
       "      <td>35.976799</td>\n",
       "      <td>40596300</td>\n",
       "    </tr>\n",
       "    <tr>\n",
       "      <th>1</th>\n",
       "      <td>7/5/2022</td>\n",
       "      <td>35.930000</td>\n",
       "      <td>36.740002</td>\n",
       "      <td>35.540001</td>\n",
       "      <td>36.689999</td>\n",
       "      <td>36.323299</td>\n",
       "      <td>33215000</td>\n",
       "    </tr>\n",
       "    <tr>\n",
       "      <th>2</th>\n",
       "      <td>7/6/2022</td>\n",
       "      <td>36.820000</td>\n",
       "      <td>37.419998</td>\n",
       "      <td>36.459999</td>\n",
       "      <td>36.990002</td>\n",
       "      <td>36.620304</td>\n",
       "      <td>26258300</td>\n",
       "    </tr>\n",
       "    <tr>\n",
       "      <th>3</th>\n",
       "      <td>7/7/2022</td>\n",
       "      <td>37.889999</td>\n",
       "      <td>38.330002</td>\n",
       "      <td>37.730000</td>\n",
       "      <td>38.139999</td>\n",
       "      <td>37.758808</td>\n",
       "      <td>33165400</td>\n",
       "    </tr>\n",
       "    <tr>\n",
       "      <th>4</th>\n",
       "      <td>7/8/2022</td>\n",
       "      <td>37.660000</td>\n",
       "      <td>38.139999</td>\n",
       "      <td>37.389999</td>\n",
       "      <td>37.990002</td>\n",
       "      <td>37.610310</td>\n",
       "      <td>22566300</td>\n",
       "    </tr>\n",
       "  </tbody>\n",
       "</table>\n",
       "</div>"
      ],
      "text/plain": [
       "       Date       Open       High        Low      Close  Adj Close    Volume\n",
       "0  7/1/2022  37.090000  37.200001  35.880001  36.340000  35.976799  40596300\n",
       "1  7/5/2022  35.930000  36.740002  35.540001  36.689999  36.323299  33215000\n",
       "2  7/6/2022  36.820000  37.419998  36.459999  36.990002  36.620304  26258300\n",
       "3  7/7/2022  37.889999  38.330002  37.730000  38.139999  37.758808  33165400\n",
       "4  7/8/2022  37.660000  38.139999  37.389999  37.990002  37.610310  22566300"
      ]
     },
     "execution_count": 36,
     "metadata": {},
     "output_type": "execute_result"
    }
   ],
   "source": [
    "df2=pd.read_csv(\"INTC.csv\")\n",
    "df2.head()"
   ]
  },
  {
   "cell_type": "code",
   "execution_count": 37,
   "id": "c84575bb",
   "metadata": {},
   "outputs": [
    {
     "data": {
      "image/png": "[encoded data removed]",
      "text/plain": [
       "<Figure size 3600x1800 with 1 Axes>"
      ]
     },
     "metadata": {
      "needs_background": "light"
     },
     "output_type": "display_data"
    }
   ],
   "source": [
    "fig, ax = plt.subplots(figsize=(50,25))\n",
    "#plt.ylim(500,800)\n",
    "sns.lineplot(x='Date',y='Close',data=df2,ax=ax)\n",
    "plt.xlabel(\"Date\")\n",
    "plt.ylabel(\"Close\")\n",
    "plt.title(\"Date vs Close Rate of Stock Price\")\n",
    "plt.show()"
   ]
  },
  {
   "cell_type": "markdown",
   "id": "e123b321",
   "metadata": {},
   "source": [
    "# 4. Identify 2 problems in the field of business analytics for which you can apply the\n",
    "following approaches. (30)\n",
    "• Supervised Learning\n",
    "• Unsupervised Learning\n",
    "• Reinforcement Learning"
   ]
  },
  {
   "cell_type": "markdown",
   "id": "13b2903f",
   "metadata": {},
   "source": [
    "### Supervised Learning: \n",
    "\n",
    "    1) Risk Assessment- To predict the risk in insurance and financial industries, and which will lead to reduce the risk portfolies of the company.\n",
    "    2) Fraud Detection- Used to Detect the transactions are authentic or not.\n",
    "    \n",
    "    "
   ]
  },
  {
   "cell_type": "markdown",
   "id": "fbffb2ff",
   "metadata": {},
   "source": [
    "### Unsupervised Learning: \n",
    "    \n",
    "    1)Identifying accident prone areas- Used to Identify accident prone areas and introduce safety.\n",
    "    2) Market Basket Analysis- Identifying certain group of items , wheather likes to buy or not more likely. "
   ]
  },
  {
   "cell_type": "markdown",
   "id": "c8bd1b2a",
   "metadata": {},
   "source": [
    "### Reinforcement Learning:\n",
    "    \n",
    "    1)Traffic Light Control- Helps to avoid congestion problem by predicting automatic signalling time.\n",
    "    2)Gaming - Like Pacman etc"
   ]
  }
 ],
 "metadata": {
  "kernelspec": {
   "display_name": "Python 3 (ipykernel)",
   "language": "python",
   "name": "python3"
  },
  "language_info": {
   "codemirror_mode": {
    "name": "ipython",
    "version": 3
   },
   "file_extension": ".py",
   "mimetype": "text/x-python",
   "name": "python",
   "nbconvert_exporter": "python",
   "pygments_lexer": "ipython3",
   "version": "3.9.7"
  }
 },
 "nbformat": 4,
 "nbformat_minor": 5
}
